{
  "nbformat": 4,
  "nbformat_minor": 0,
  "metadata": {
    "colab": {
      "name": "TDM Refined.ipynb",
      "provenance": [],
      "collapsed_sections": [],
      "include_colab_link": true
    },
    "kernelspec": {
      "display_name": "Python 3",
      "name": "python3"
    }
  },
  "cells": [
    {
      "cell_type": "markdown",
      "metadata": {
        "id": "view-in-github",
        "colab_type": "text"
      },
      "source": [
        "<a href=\"https://colab.research.google.com/github/psyrixen/Petro/blob/master/TDM_Refined.ipynb\" target=\"_parent\"><img src=\"https://colab.research.google.com/assets/colab-badge.svg\" alt=\"Open In Colab\"/></a>"
      ]
    },
    {
      "cell_type": "markdown",
      "metadata": {
        "id": "XZa23DUjeU2e"
      },
      "source": [
        "Mounting Google Drive"
      ]
    },
    {
      "cell_type": "code",
      "metadata": {
        "id": "6KlSpNoRWtDL",
        "colab": {
          "base_uri": "https://localhost:8080/"
        },
        "outputId": "239b862d-e61f-4023-973e-3283246273a6"
      },
      "source": [
        "from google.colab import drive\n",
        "drive.mount('/content/drive')"
      ],
      "execution_count": 3,
      "outputs": [
        {
          "output_type": "stream",
          "text": [
            "Mounted at /content/drive\n"
          ],
          "name": "stdout"
        }
      ]
    },
    {
      "cell_type": "markdown",
      "metadata": {
        "id": "F3V0txSpV5cC"
      },
      "source": [
        "Installing Libraries"
      ]
    },
    {
      "cell_type": "code",
      "metadata": {
        "id": "49RfEprXDrFf",
        "colab": {
          "base_uri": "https://localhost:8080/"
        },
        "outputId": "878a2dba-e21b-4126-875b-1e479e641d47"
      },
      "source": [
        "!pip install -q xlrd\n",
        "#!pip install geopandas\n",
        "#!pip install contextily\n",
        "#!pip install shapely\n",
        "#!pip install geovoronoi\n",
        "!pip install sklearn\n",
        "!pip install saspy"
      ],
      "execution_count": 4,
      "outputs": [
        {
          "output_type": "stream",
          "text": [
            "Requirement already satisfied: sklearn in /usr/local/lib/python3.7/dist-packages (0.0)\n",
            "Requirement already satisfied: scikit-learn in /usr/local/lib/python3.7/dist-packages (from sklearn) (0.22.2.post1)\n",
            "Requirement already satisfied: joblib>=0.11 in /usr/local/lib/python3.7/dist-packages (from scikit-learn->sklearn) (1.0.1)\n",
            "Requirement already satisfied: scipy>=0.17.0 in /usr/local/lib/python3.7/dist-packages (from scikit-learn->sklearn) (1.4.1)\n",
            "Requirement already satisfied: numpy>=1.11.0 in /usr/local/lib/python3.7/dist-packages (from scikit-learn->sklearn) (1.19.5)\n",
            "Collecting saspy\n",
            "\u001b[?25l  Downloading https://files.pythonhosted.org/packages/7b/85/6cd18c87be1a657b695e74bd20d1b64b39a84a77a456c6d1dd47d9872b4a/saspy-3.7.2.tar.gz (6.4MB)\n",
            "\u001b[K     |████████████████████████████████| 6.4MB 2.8MB/s \n",
            "\u001b[?25hBuilding wheels for collected packages: saspy\n",
            "  Building wheel for saspy (setup.py) ... \u001b[?25l\u001b[?25hdone\n",
            "  Created wheel for saspy: filename=saspy-3.7.2-cp37-none-any.whl size=6419248 sha256=fc2f70b3541a8ac6e25585ba4799e0528a1207c90a48cc8f0382af647d99359f\n",
            "  Stored in directory: /root/.cache/pip/wheels/97/15/b9/04c61c8b6c0e6b28e8e8772af8b4e4b71312978e9107c3f71b\n",
            "Successfully built saspy\n",
            "Installing collected packages: saspy\n",
            "Successfully installed saspy-3.7.2\n"
          ],
          "name": "stdout"
        }
      ]
    },
    {
      "cell_type": "code",
      "metadata": {
        "id": "3MKm3vX2ZeVU"
      },
      "source": [
        "import pandas as pd\n",
        "import numpy as np\n",
        "from matplotlib import pyplot as plt\n",
        "from matplotlib.patches import Rectangle\n",
        "import seaborn as sns\n",
        "#import geopandas as gpd\n",
        "#import contextily as ctx\n",
        "import math \n",
        "import saspy\n",
        "import warnings"
      ],
      "execution_count": 5,
      "outputs": []
    },
    {
      "cell_type": "code",
      "metadata": {
        "id": "veHrehxUX-Mn",
        "colab": {
          "base_uri": "https://localhost:8080/"
        },
        "outputId": "782e7f22-5494-4067-d692-cb77eeac9c93"
      },
      "source": [
        "sas = saspy.SASsession(java='/usr/bin/java', iomhost=['odaws01-apse1.oda.sas.com','odaws02-apse1.oda.sas.com'], iomport=8591, encoding='utf-8')"
      ],
      "execution_count": 6,
      "outputs": [
        {
          "output_type": "stream",
          "text": [
            "Using SAS Config named: default\n",
            "Please enter the IOM user id: sj12031997@gmail.com\n",
            "Please enter the password for IOM user : ··········\n",
            "SAS Connection established. Subprocess id is 882\n",
            "\n"
          ],
          "name": "stdout"
        }
      ]
    },
    {
      "cell_type": "markdown",
      "metadata": {
        "id": "HJxWzSK0V9Jb"
      },
      "source": [
        "Reading Data File"
      ]
    },
    {
      "cell_type": "code",
      "metadata": {
        "id": "wuX71MdvZYWT"
      },
      "source": [
        "from shapely.ops import cascaded_union\n",
        "#from geovoronoi.plotting import subplot_for_map, plot_voronoi_polys_with_points_in_area\n",
        "#from geovoronoi import voronoi_regions_from_coords, points_to_coords\n",
        "from scipy.spatial import Voronoi, voronoi_plot_2d\n",
        "\n",
        "PStatic = pd.read_excel(open(r\"/content/drive/MyDrive/Practice TDM Run on Bakken Field/Parshall Static data.xlsx\",'rb'),sheet_name='Lat-Long Plot',parse_dates=True)"
      ],
      "execution_count": 7,
      "outputs": []
    },
    {
      "cell_type": "code",
      "metadata": {
        "id": "TmaeYsFrxxRN",
        "colab": {
          "base_uri": "https://localhost:8080/"
        },
        "outputId": "b7073f7b-0196-4176-c6f8-cce339c2fd9a"
      },
      "source": [
        "for i in range(1, 7):\n",
        "  PStatic[\"Offset {}\".format(i)] = pd.Series()"
      ],
      "execution_count": 8,
      "outputs": [
        {
          "output_type": "stream",
          "text": [
            "/usr/local/lib/python3.7/dist-packages/ipykernel_launcher.py:2: DeprecationWarning: The default dtype for empty Series will be 'object' instead of 'float64' in a future version. Specify a dtype explicitly to silence this warning.\n",
            "  \n"
          ],
          "name": "stderr"
        }
      ]
    },
    {
      "cell_type": "markdown",
      "metadata": {
        "id": "kKODBjEJWD2E"
      },
      "source": [
        "Computing Distances for Offset Data"
      ]
    },
    {
      "cell_type": "code",
      "metadata": {
        "id": "e1k82_KdLG4E"
      },
      "source": [
        "lat= PStatic.Latitude\n",
        "longi =PStatic.Longitude\n",
        "wellno=PStatic['NDIC #']\n",
        "length = lat.size\n",
        "\n",
        "distance_arr1=[]\n",
        "distance_dict={}\n",
        "offset_list=[]\n",
        "offset_dict={}\n",
        "dict_1={}\n",
        "\n",
        "for well in wellno :\n",
        "    latitude_1=PStatic[PStatic['NDIC #']==well]['Latitude']\n",
        "    longitude_1=PStatic[PStatic['NDIC #']==well]['Longitude']\n",
        "    latitude_l=latitude_1.tolist()\n",
        "    longitude_l=longitude_1.tolist()\n",
        "    latitude=latitude_l[0]\n",
        "    longitude=longitude_l[0]\n",
        "\n",
        "    for other_well in wellno:\n",
        "      lat_2=PStatic[PStatic['NDIC #']==other_well]['Latitude']\n",
        "      long_2=PStatic[PStatic['NDIC #']==other_well]['Longitude']\n",
        "      distance = math.sqrt((lat_2-latitude)**2+(long_2-longitude)**2)\n",
        "      dict_1[other_well]=distance\n",
        "      sorting_dist=sorted(dict_1.items(),key=lambda kv:kv[1])\n",
        "\n",
        "    for k in range(7):\n",
        "      offset_list.append(sorting_dist[k])\n",
        "    \n",
        "    \n",
        "    offset_dict[well]=offset_list\n",
        "    offset_list=[]\n"
      ],
      "execution_count": 9,
      "outputs": []
    },
    {
      "cell_type": "code",
      "metadata": {
        "id": "Drc0oG9x7LPu"
      },
      "source": [
        "key_list=offset_dict.keys()"
      ],
      "execution_count": 21,
      "outputs": []
    },
    {
      "cell_type": "code",
      "metadata": {
        "colab": {
          "base_uri": "https://localhost:8080/"
        },
        "id": "l6QvXeXE0GNx",
        "outputId": "a3f73594-aa46-4c7e-9862-cd0b998f165d"
      },
      "source": [
        "for well in key_list :\n",
        "  well_offsets_list=offset_dict[well]\n",
        "  strw='/content/drive/MyDrive/Practice TDM Run on Bakken Field/Data Set Well Wise/'+str(well)+'.xlsx'\n",
        "  well_df= pd.read_excel(open(strw,'rb'),sheet_name='Sheet1')\n",
        "  loop_offsets=well_offsets_list[1:]\n",
        "  counter=0\n",
        "  print('Reading File Well No - ',well)\n",
        "  for offset,dist in loop_offsets :\n",
        "    para_list=['Distance','Pay Thickness','Permeability','Gas Injection']\n",
        "    \n",
        "    stro='/content/drive/MyDrive/Practice TDM Run on Bakken Field/Data Set Well Wise/'+str(offset)+'.xlsx'\n",
        "    offset_well_df=pd.read_excel(open(stro,'rb'),sheet_name='Sheet1')\n",
        "    pay_thickness=offset_well_df.iloc[2,20]\n",
        "    permeability=offset_well_df.iloc[2,28]\n",
        "    # gas_inj=offset_well_df['Gas Injection']   Add iloc index for Gas Injection once the cloumn is added\n",
        "    \n",
        "    well_df.iloc[:,(34+counter)]=dist\n",
        "    well_df.iloc[:,(35+counter)]=pay_thickness\n",
        "    well_df.iloc[:,(36+counter)]=permeability\n",
        "    # well_df.iloc[:,(37+counter)]=gas_inj\n",
        "    counter=counter+4\n",
        "  well_df.fillna(method='ffill')\n",
        "  well_df.fillna(0)\n",
        "  print(\"Writing Well File - \" , well)\n",
        "  write_str=\"/content/drive/MyDrive/Practice TDM Run on Bakken Field/Backup Data Set Well Wise/\"+str(well)+\".xlsx\"\n",
        "  well_df.to_excel(write_str)\n",
        "  print('Write Finished')\n",
        "  print('---------------------------------------------------------------------------')\n",
        "print('All Files Completed')"
      ],
      "execution_count": 42,
      "outputs": [
        {
          "output_type": "stream",
          "text": [
            "Reading File Well No -  16164\n",
            "Writing Well File -  16164\n",
            "Write Finished\n",
            "---------------------------------------------------------------------------\n",
            "Reading File Well No -  16324\n",
            "Writing Well File -  16324\n",
            "Write Finished\n",
            "---------------------------------------------------------------------------\n",
            "Reading File Well No -  16469\n",
            "Writing Well File -  16469\n",
            "Write Finished\n",
            "---------------------------------------------------------------------------\n",
            "Reading File Well No -  16484\n",
            "Writing Well File -  16484\n",
            "Write Finished\n",
            "---------------------------------------------------------------------------\n",
            "Reading File Well No -  16485\n",
            "Writing Well File -  16485\n",
            "Write Finished\n",
            "---------------------------------------------------------------------------\n",
            "Reading File Well No -  16486\n",
            "Writing Well File -  16486\n",
            "Write Finished\n",
            "---------------------------------------------------------------------------\n",
            "Reading File Well No -  16497\n",
            "Writing Well File -  16497\n",
            "Write Finished\n",
            "---------------------------------------------------------------------------\n",
            "Reading File Well No -  16532\n",
            "Writing Well File -  16532\n",
            "Write Finished\n",
            "---------------------------------------------------------------------------\n",
            "Reading File Well No -  16543\n",
            "Writing Well File -  16543\n",
            "Write Finished\n",
            "---------------------------------------------------------------------------\n",
            "Reading File Well No -  16550\n",
            "Writing Well File -  16550\n",
            "Write Finished\n",
            "---------------------------------------------------------------------------\n",
            "Reading File Well No -  16577\n",
            "Writing Well File -  16577\n",
            "Write Finished\n",
            "---------------------------------------------------------------------------\n",
            "Reading File Well No -  16635\n",
            "Writing Well File -  16635\n",
            "Write Finished\n",
            "---------------------------------------------------------------------------\n",
            "Reading File Well No -  16667\n",
            "Writing Well File -  16667\n",
            "Write Finished\n",
            "---------------------------------------------------------------------------\n",
            "Reading File Well No -  16684\n",
            "Writing Well File -  16684\n",
            "Write Finished\n",
            "---------------------------------------------------------------------------\n",
            "Reading File Well No -  16685\n",
            "Writing Well File -  16685\n",
            "Write Finished\n",
            "---------------------------------------------------------------------------\n",
            "Reading File Well No -  16727\n",
            "Writing Well File -  16727\n",
            "Write Finished\n",
            "---------------------------------------------------------------------------\n",
            "Reading File Well No -  16784\n",
            "Writing Well File -  16784\n",
            "Write Finished\n",
            "---------------------------------------------------------------------------\n",
            "Reading File Well No -  16795\n",
            "Writing Well File -  16795\n",
            "Write Finished\n",
            "---------------------------------------------------------------------------\n",
            "Reading File Well No -  16799\n",
            "Writing Well File -  16799\n",
            "Write Finished\n",
            "---------------------------------------------------------------------------\n",
            "Reading File Well No -  16822\n",
            "Writing Well File -  16822\n",
            "Write Finished\n",
            "---------------------------------------------------------------------------\n",
            "Reading File Well No -  16840\n",
            "Writing Well File -  16840\n",
            "Write Finished\n",
            "---------------------------------------------------------------------------\n",
            "Reading File Well No -  16922\n",
            "Writing Well File -  16922\n",
            "Write Finished\n",
            "---------------------------------------------------------------------------\n",
            "Reading File Well No -  16926\n",
            "Writing Well File -  16926\n",
            "Write Finished\n",
            "---------------------------------------------------------------------------\n",
            "Reading File Well No -  16950\n",
            "Writing Well File -  16950\n",
            "Write Finished\n",
            "---------------------------------------------------------------------------\n",
            "Reading File Well No -  16954\n",
            "Writing Well File -  16954\n",
            "Write Finished\n",
            "---------------------------------------------------------------------------\n",
            "Reading File Well No -  16961\n",
            "Writing Well File -  16961\n",
            "Write Finished\n",
            "---------------------------------------------------------------------------\n",
            "Reading File Well No -  16970\n",
            "Writing Well File -  16970\n",
            "Write Finished\n",
            "---------------------------------------------------------------------------\n",
            "Reading File Well No -  16971\n",
            "Writing Well File -  16971\n",
            "Write Finished\n",
            "---------------------------------------------------------------------------\n",
            "Reading File Well No -  16973\n",
            "Writing Well File -  16973\n",
            "Write Finished\n",
            "---------------------------------------------------------------------------\n",
            "Reading File Well No -  16977\n",
            "Writing Well File -  16977\n",
            "Write Finished\n",
            "---------------------------------------------------------------------------\n",
            "Reading File Well No -  16978\n",
            "Writing Well File -  16978\n",
            "Write Finished\n",
            "---------------------------------------------------------------------------\n",
            "Reading File Well No -  17011\n",
            "Writing Well File -  17011\n",
            "Write Finished\n",
            "---------------------------------------------------------------------------\n",
            "Reading File Well No -  17012\n",
            "Writing Well File -  17012\n",
            "Write Finished\n",
            "---------------------------------------------------------------------------\n",
            "Reading File Well No -  17019\n",
            "Writing Well File -  17019\n",
            "Write Finished\n",
            "---------------------------------------------------------------------------\n",
            "Reading File Well No -  17034\n",
            "Writing Well File -  17034\n",
            "Write Finished\n",
            "---------------------------------------------------------------------------\n",
            "Reading File Well No -  17037\n",
            "Writing Well File -  17037\n",
            "Write Finished\n",
            "---------------------------------------------------------------------------\n",
            "Reading File Well No -  17040\n",
            "Writing Well File -  17040\n",
            "Write Finished\n",
            "---------------------------------------------------------------------------\n",
            "Reading File Well No -  17042\n",
            "Writing Well File -  17042\n",
            "Write Finished\n",
            "---------------------------------------------------------------------------\n",
            "Reading File Well No -  17068\n",
            "Writing Well File -  17068\n",
            "Write Finished\n",
            "---------------------------------------------------------------------------\n",
            "Reading File Well No -  17075\n",
            "Writing Well File -  17075\n",
            "Write Finished\n",
            "---------------------------------------------------------------------------\n",
            "Reading File Well No -  17078\n",
            "Writing Well File -  17078\n",
            "Write Finished\n",
            "---------------------------------------------------------------------------\n",
            "Reading File Well No -  17083\n",
            "Writing Well File -  17083\n",
            "Write Finished\n",
            "---------------------------------------------------------------------------\n",
            "Reading File Well No -  17126\n",
            "Writing Well File -  17126\n",
            "Write Finished\n",
            "---------------------------------------------------------------------------\n",
            "Reading File Well No -  17128\n",
            "Writing Well File -  17128\n",
            "Write Finished\n",
            "---------------------------------------------------------------------------\n",
            "Reading File Well No -  17132\n",
            "Writing Well File -  17132\n",
            "Write Finished\n",
            "---------------------------------------------------------------------------\n",
            "Reading File Well No -  17155\n",
            "Writing Well File -  17155\n",
            "Write Finished\n",
            "---------------------------------------------------------------------------\n",
            "Reading File Well No -  17163\n",
            "Writing Well File -  17163\n",
            "Write Finished\n",
            "---------------------------------------------------------------------------\n",
            "Reading File Well No -  17170\n",
            "Writing Well File -  17170\n",
            "Write Finished\n",
            "---------------------------------------------------------------------------\n",
            "Reading File Well No -  17177\n",
            "Writing Well File -  17177\n",
            "Write Finished\n",
            "---------------------------------------------------------------------------\n",
            "Reading File Well No -  17189\n",
            "Writing Well File -  17189\n",
            "Write Finished\n",
            "---------------------------------------------------------------------------\n",
            "Reading File Well No -  17215\n",
            "Writing Well File -  17215\n",
            "Write Finished\n",
            "---------------------------------------------------------------------------\n",
            "Reading File Well No -  17237\n",
            "Writing Well File -  17237\n",
            "Write Finished\n",
            "---------------------------------------------------------------------------\n",
            "Reading File Well No -  17239\n",
            "Writing Well File -  17239\n",
            "Write Finished\n",
            "---------------------------------------------------------------------------\n",
            "Reading File Well No -  17262\n",
            "Writing Well File -  17262\n",
            "Write Finished\n",
            "---------------------------------------------------------------------------\n",
            "Reading File Well No -  17277\n",
            "Writing Well File -  17277\n",
            "Write Finished\n",
            "---------------------------------------------------------------------------\n",
            "Reading File Well No -  17290\n",
            "Writing Well File -  17290\n",
            "Write Finished\n",
            "---------------------------------------------------------------------------\n",
            "Reading File Well No -  17294\n",
            "Writing Well File -  17294\n",
            "Write Finished\n",
            "---------------------------------------------------------------------------\n",
            "Reading File Well No -  17295\n",
            "Writing Well File -  17295\n",
            "Write Finished\n",
            "---------------------------------------------------------------------------\n",
            "Reading File Well No -  17296\n",
            "Writing Well File -  17296\n",
            "Write Finished\n",
            "---------------------------------------------------------------------------\n",
            "Reading File Well No -  17301\n",
            "Writing Well File -  17301\n",
            "Write Finished\n",
            "---------------------------------------------------------------------------\n",
            "Reading File Well No -  17419\n",
            "Writing Well File -  17419\n",
            "Write Finished\n",
            "---------------------------------------------------------------------------\n",
            "Reading File Well No -  17425\n",
            "Writing Well File -  17425\n",
            "Write Finished\n",
            "---------------------------------------------------------------------------\n",
            "Reading File Well No -  17444\n",
            "Writing Well File -  17444\n",
            "Write Finished\n",
            "---------------------------------------------------------------------------\n",
            "Reading File Well No -  17469\n",
            "Writing Well File -  17469\n",
            "Write Finished\n",
            "---------------------------------------------------------------------------\n",
            "Reading File Well No -  17485\n",
            "Writing Well File -  17485\n",
            "Write Finished\n",
            "---------------------------------------------------------------------------\n",
            "Reading File Well No -  17486\n",
            "Writing Well File -  17486\n",
            "Write Finished\n",
            "---------------------------------------------------------------------------\n",
            "Reading File Well No -  17522\n",
            "Writing Well File -  17522\n",
            "Write Finished\n",
            "---------------------------------------------------------------------------\n",
            "Reading File Well No -  17539\n",
            "Writing Well File -  17539\n",
            "Write Finished\n",
            "---------------------------------------------------------------------------\n",
            "Reading File Well No -  17580\n",
            "Writing Well File -  17580\n",
            "Write Finished\n",
            "---------------------------------------------------------------------------\n",
            "Reading File Well No -  17595\n",
            "Writing Well File -  17595\n",
            "Write Finished\n",
            "---------------------------------------------------------------------------\n",
            "Reading File Well No -  17607\n",
            "Writing Well File -  17607\n",
            "Write Finished\n",
            "---------------------------------------------------------------------------\n",
            "Reading File Well No -  17619\n",
            "Writing Well File -  17619\n",
            "Write Finished\n",
            "---------------------------------------------------------------------------\n",
            "Reading File Well No -  17621\n",
            "Writing Well File -  17621\n",
            "Write Finished\n",
            "---------------------------------------------------------------------------\n",
            "Reading File Well No -  17627\n",
            "Writing Well File -  17627\n",
            "Write Finished\n",
            "---------------------------------------------------------------------------\n",
            "Reading File Well No -  17647\n",
            "Writing Well File -  17647\n",
            "Write Finished\n",
            "---------------------------------------------------------------------------\n",
            "Reading File Well No -  17727\n",
            "Writing Well File -  17727\n",
            "Write Finished\n",
            "---------------------------------------------------------------------------\n",
            "Reading File Well No -  17732\n",
            "Writing Well File -  17732\n",
            "Write Finished\n",
            "---------------------------------------------------------------------------\n",
            "Reading File Well No -  17738\n",
            "Writing Well File -  17738\n",
            "Write Finished\n",
            "---------------------------------------------------------------------------\n",
            "Reading File Well No -  17754\n",
            "Writing Well File -  17754\n",
            "Write Finished\n",
            "---------------------------------------------------------------------------\n",
            "Reading File Well No -  17800\n",
            "Writing Well File -  17800\n",
            "Write Finished\n",
            "---------------------------------------------------------------------------\n",
            "Reading File Well No -  17826\n",
            "Writing Well File -  17826\n",
            "Write Finished\n",
            "---------------------------------------------------------------------------\n",
            "Reading File Well No -  17828\n",
            "Writing Well File -  17828\n",
            "Write Finished\n",
            "---------------------------------------------------------------------------\n",
            "Reading File Well No -  17834\n",
            "Writing Well File -  17834\n",
            "Write Finished\n",
            "---------------------------------------------------------------------------\n",
            "Reading File Well No -  17836\n",
            "Writing Well File -  17836\n",
            "Write Finished\n",
            "---------------------------------------------------------------------------\n",
            "Reading File Well No -  17851\n",
            "Writing Well File -  17851\n",
            "Write Finished\n",
            "---------------------------------------------------------------------------\n",
            "Reading File Well No -  17870\n",
            "Writing Well File -  17870\n",
            "Write Finished\n",
            "---------------------------------------------------------------------------\n",
            "Reading File Well No -  17888\n",
            "Writing Well File -  17888\n",
            "Write Finished\n",
            "---------------------------------------------------------------------------\n",
            "Reading File Well No -  17913\n",
            "Writing Well File -  17913\n",
            "Write Finished\n",
            "---------------------------------------------------------------------------\n",
            "Reading File Well No -  17933\n",
            "Writing Well File -  17933\n",
            "Write Finished\n",
            "---------------------------------------------------------------------------\n",
            "Reading File Well No -  17934\n",
            "Writing Well File -  17934\n",
            "Write Finished\n",
            "---------------------------------------------------------------------------\n",
            "Reading File Well No -  17951\n",
            "Writing Well File -  17951\n",
            "Write Finished\n",
            "---------------------------------------------------------------------------\n",
            "Reading File Well No -  17972\n",
            "Writing Well File -  17972\n",
            "Write Finished\n",
            "---------------------------------------------------------------------------\n",
            "Reading File Well No -  18010\n",
            "Writing Well File -  18010\n",
            "Write Finished\n",
            "---------------------------------------------------------------------------\n",
            "Reading File Well No -  18057\n",
            "Writing Well File -  18057\n",
            "Write Finished\n",
            "---------------------------------------------------------------------------\n",
            "Reading File Well No -  18061\n",
            "Writing Well File -  18061\n",
            "Write Finished\n",
            "---------------------------------------------------------------------------\n",
            "Reading File Well No -  18076\n",
            "Writing Well File -  18076\n",
            "Write Finished\n",
            "---------------------------------------------------------------------------\n",
            "Reading File Well No -  18097\n",
            "Writing Well File -  18097\n",
            "Write Finished\n",
            "---------------------------------------------------------------------------\n",
            "Reading File Well No -  18108\n",
            "Writing Well File -  18108\n",
            "Write Finished\n",
            "---------------------------------------------------------------------------\n",
            "Reading File Well No -  18110\n",
            "Writing Well File -  18110\n",
            "Write Finished\n",
            "---------------------------------------------------------------------------\n",
            "Reading File Well No -  18113\n",
            "Writing Well File -  18113\n",
            "Write Finished\n",
            "---------------------------------------------------------------------------\n",
            "Reading File Well No -  18117\n",
            "Writing Well File -  18117\n",
            "Write Finished\n",
            "---------------------------------------------------------------------------\n",
            "Reading File Well No -  18121\n",
            "Writing Well File -  18121\n",
            "Write Finished\n",
            "---------------------------------------------------------------------------\n",
            "Reading File Well No -  18147\n",
            "Writing Well File -  18147\n",
            "Write Finished\n",
            "---------------------------------------------------------------------------\n",
            "Reading File Well No -  18157\n",
            "Writing Well File -  18157\n",
            "Write Finished\n",
            "---------------------------------------------------------------------------\n",
            "Reading File Well No -  18168\n",
            "Writing Well File -  18168\n",
            "Write Finished\n",
            "---------------------------------------------------------------------------\n",
            "Reading File Well No -  18172\n",
            "Writing Well File -  18172\n",
            "Write Finished\n",
            "---------------------------------------------------------------------------\n",
            "Reading File Well No -  18254\n",
            "Writing Well File -  18254\n",
            "Write Finished\n",
            "---------------------------------------------------------------------------\n",
            "Reading File Well No -  18289\n",
            "Writing Well File -  18289\n",
            "Write Finished\n",
            "---------------------------------------------------------------------------\n",
            "Reading File Well No -  18319\n",
            "Writing Well File -  18319\n",
            "Write Finished\n",
            "---------------------------------------------------------------------------\n",
            "Reading File Well No -  18325\n",
            "Writing Well File -  18325\n",
            "Write Finished\n",
            "---------------------------------------------------------------------------\n",
            "Reading File Well No -  18366\n",
            "Writing Well File -  18366\n",
            "Write Finished\n",
            "---------------------------------------------------------------------------\n",
            "Reading File Well No -  18390\n",
            "Writing Well File -  18390\n",
            "Write Finished\n",
            "---------------------------------------------------------------------------\n",
            "Reading File Well No -  18412\n",
            "Writing Well File -  18412\n",
            "Write Finished\n",
            "---------------------------------------------------------------------------\n",
            "Reading File Well No -  18438\n",
            "Writing Well File -  18438\n",
            "Write Finished\n",
            "---------------------------------------------------------------------------\n",
            "Reading File Well No -  18473\n",
            "Writing Well File -  18473\n",
            "Write Finished\n",
            "---------------------------------------------------------------------------\n",
            "Reading File Well No -  18705\n",
            "Writing Well File -  18705\n",
            "Write Finished\n",
            "---------------------------------------------------------------------------\n",
            "Reading File Well No -  18800\n",
            "Writing Well File -  18800\n",
            "Write Finished\n",
            "---------------------------------------------------------------------------\n",
            "Reading File Well No -  18808\n",
            "Writing Well File -  18808\n",
            "Write Finished\n",
            "---------------------------------------------------------------------------\n",
            "Reading File Well No -  18912\n",
            "Writing Well File -  18912\n",
            "Write Finished\n",
            "---------------------------------------------------------------------------\n",
            "All Files Completed\n"
          ],
          "name": "stdout"
        }
      ]
    },
    {
      "cell_type": "markdown",
      "metadata": {
        "id": "Ho-h8vtQ3G6W"
      },
      "source": [
        "#Zipping Latitude and Longitude Data"
      ]
    },
    {
      "cell_type": "code",
      "metadata": {
        "id": "FWUqoNzAbVe_"
      },
      "source": [
        "zipped_lat_longi = [[lat[i], longi[i]] for i in range(0, length)]"
      ],
      "execution_count": null,
      "outputs": []
    },
    {
      "cell_type": "markdown",
      "metadata": {
        "id": "T1koUrCH3Liz"
      },
      "source": [
        "Plotting Voronoi Diagram using 2D point Data \n",
        "\n",
        "\n",
        "\n"
      ]
    },
    {
      "cell_type": "code",
      "metadata": {
        "id": "Bb0bl0pVdLK-"
      },
      "source": [
        "vor = Voronoi(zipped_lat_longi)\n",
        "fig = voronoi_plot_2d(vor)\n",
        "plt.figure(figsize=(25, 25))\n",
        "#plt.show()"
      ],
      "execution_count": null,
      "outputs": []
    },
    {
      "cell_type": "markdown",
      "metadata": {
        "id": "fkkuWVWwyNR0"
      },
      "source": [
        "# Fuzzy Pattern Recognition\n"
      ]
    },
    {
      "cell_type": "markdown",
      "metadata": {
        "id": "Ope3D3NMd01x"
      },
      "source": [
        "Data Preparation"
      ]
    },
    {
      "cell_type": "code",
      "metadata": {
        "id": "WG0DOVAKyMsl"
      },
      "source": [
        "#initialise blank dataframe for fuzzy data\n",
        "fuz = pd.read_excel(open(r\"/content/drive/MyDrive/Practice TDM Run on Bakken Field/FUZZY DATAFRAME.xlsx\",'rb'),sheet_name='Static Data')\n",
        " \n",
        "template = pd.read_excel(open(r\"/content/drive/MyDrive/Practice TDM Run on Bakken Field/FUZZY DATAFRAME.xlsx\",'rb'),sheet_name='Template')\n",
        " \n",
        "#create wellno string variable\n",
        "path='/content/drive/MyDrive/Practice TDM Run on Bakken Field/Data Set Well Wise/'\n",
        "extension='.xlsx'\n",
        " \n",
        "#get well number series\n",
        "well_no_series=fuz['WELL_NO']\n",
        " \n",
        "#set index to prevent duplication\n",
        "fuz.set_index(['WELL_NO'],inplace=True)\n",
        " \n",
        " \n",
        "#fuz['WELL_NO']=(fuz['WELL_NO']).map(int)\n",
        " \n",
        "#initialise blank dataframe column array\n",
        "fuzz_dataf_columns = fuz.columns.values"
      ],
      "execution_count": null,
      "outputs": []
    },
    {
      "cell_type": "code",
      "metadata": {
        "id": "AfRF62Z8oqT_"
      },
      "source": [
        "#extract data from each well file\n",
        "\n",
        "for item in well_no_series:\n",
        "  file_name = (path+(str(item))+extension)\n",
        "  well_data = pd.read_excel(open(file_name,'rb'),sheet_name='Sheet1')\n",
        "  #convert well file columns into template columns\n",
        "  well_data.columns=template.columns\n",
        "  \n",
        "  #read individual columns\n",
        "  for i in range(2,len(fuzz_dataf_columns)):\n",
        "    name=fuzz_dataf_columns[i]\n",
        "    fuz.loc[item,name]=well_data[name][0]\n",
        "\n",
        "#reset index to restore well number column\n",
        "fuz.reset_index(inplace=True) "
      ],
      "execution_count": null,
      "outputs": []
    },
    {
      "cell_type": "code",
      "metadata": {
        "id": "YuhNXzigaHfT"
      },
      "source": [
        "#fuz.to_hdf('h5new.h5','/content/drive/MyDrive/Practice TDM Run on Bakken Field/')"
      ],
      "execution_count": null,
      "outputs": []
    },
    {
      "cell_type": "markdown",
      "metadata": {
        "id": "-3QKpeFaiMt9"
      },
      "source": [
        "Defining PIs\n",
        "\n",
        "1. CUM_3_MONTH\n",
        "2. CUM_6_MONTH\n",
        "3. CUM_1_YR\n",
        "4. CUM_3_YR\n",
        "5. CUM_5_YR\n",
        "6. CUM_10_YR"
      ]
    },
    {
      "cell_type": "markdown",
      "metadata": {
        "id": "veBwvQIclZZq"
      },
      "source": [
        "Scaling PIs"
      ]
    },
    {
      "cell_type": "code",
      "metadata": {
        "id": "eilB0H6XTM1A"
      },
      "source": [
        "#define PI List\n",
        "#add or remove PIs accordingly, currently 6 PIs defined \n",
        "\n",
        "pi_list = ['CUM_3_MONTH','CUM_6_MONTH','CUM_1_YR','CUM_3_YR','CUM_5_YR','CUM_10_YR']"
      ],
      "execution_count": null,
      "outputs": []
    },
    {
      "cell_type": "code",
      "metadata": {
        "id": "UbbBc8dkmlZw"
      },
      "source": [
        "fuz['well_fuzzy_value']=pd.Series()"
      ],
      "execution_count": null,
      "outputs": []
    },
    {
      "cell_type": "markdown",
      "metadata": {
        "id": "NPwr-Th6cVXv"
      },
      "source": [
        "Function to find roots of any given polynomial"
      ]
    },
    {
      "cell_type": "code",
      "metadata": {
        "id": "o9DONj6ocTvU"
      },
      "source": [
        "def find_roots(org_polynomial, percentiles, degree):\n",
        "  \n",
        "  all_roots = []\n",
        "  \n",
        "  for percentile in percentiles:\n",
        "    polynomial=[]\n",
        "    polynomial=org_polynomial\n",
        "    polynomial[degree] = polynomial[degree] - percentile\n",
        "    \n",
        "    query = \"proc iml; p = {\" + \",\".join(map(str, polynomial)) + \"}; roots = polyroot(p);print roots;\"\n",
        "    final_roots = []\n",
        "    roots = ((sas.submit(query, results = \"TEXT\"))['LST'].split(\"\\n\"))[5: -1]\n",
        "\n",
        "    candidate_roots = []\n",
        "    for item in roots :\n",
        "      clean_number = item.lstrip()\n",
        "      number = clean_number.split()\n",
        "      if float(number[1]) == 0 :\n",
        "        candidate_roots.append(float(number[0]))\n",
        "      \n",
        "    final_roots = [root for root in candidate_roots if root >0]\n",
        "    print(\"root from \"+str(percentile), final_roots)\n",
        "    all_roots.extend(final_roots)\n",
        "   \n",
        "  #print(all_roots, end = \", \")\n",
        "  return all_roots\n"
      ],
      "execution_count": null,
      "outputs": []
    },
    {
      "cell_type": "markdown",
      "metadata": {
        "id": "Vs00hR2mcqDc"
      },
      "source": [
        "Function to plot a given poly"
      ]
    },
    {
      "cell_type": "code",
      "metadata": {
        "id": "Mp_AnlYicpS4"
      },
      "source": [
        "def plotf (x_coord,y_coord,ll,ul,ind) :\n",
        "  bl=[]\n",
        "  lower_line=[]\n",
        "  upper_line=[]\n",
        "  x_min=min(x_coord)\n",
        "  x_max=max(x_coord)\n",
        "  p=np.poly1d(np.polyfit(x_coord,y_coord,ind)) \n",
        "  xp=np.linspace(x_min-0.1,x_max+0.1,2000)\n",
        "  for j in range(len(xp)):\n",
        "    lower_line.append(ll)\n",
        "    upper_line.append(ul)\n",
        "  plt.figure()\n",
        "  _=plt.plot(xp,p(xp),'*',xp,lower_line,\"-\",xp,upper_line,\"+\",linewidth=2.0)\n",
        "  plt.ylim(0,1)\n",
        "  bl.append(ind)\n",
        "  plt.legend(bl)\n",
        "  bl=[]\n",
        "  plt.scatter(x_coord,y_coord)\n",
        "  fig.set_size_inches(25,25)\n",
        "  fig.clear(True)\n",
        "  print(\"+++++++++++++++++++++++++++++++++++++++++++++++++++++++++++++++++\")"
      ],
      "execution_count": null,
      "outputs": []
    },
    {
      "cell_type": "markdown",
      "metadata": {
        "id": "2Df-ZvrFcxG_"
      },
      "source": [
        "Function to check if a point lies inside of a square"
      ]
    },
    {
      "cell_type": "code",
      "metadata": {
        "id": "c2ssKt3bkta3"
      },
      "source": [
        "def solve(bl, tr, p) :\n",
        "   if (p[0] > bl[0] and p[0] < tr[0] and p[1] > bl[1] and p[1] < tr[1]) :\n",
        "      return True\n",
        "   else :\n",
        "      return False"
      ],
      "execution_count": null,
      "outputs": []
    },
    {
      "cell_type": "markdown",
      "metadata": {
        "id": "hFUQiuiac3nh"
      },
      "source": [
        "Fuzzy Logic Implementation Function"
      ]
    },
    {
      "cell_type": "code",
      "metadata": {
        "id": "n0G1ealLTm0D"
      },
      "source": [
        "def fuzzy (pi,index,limit_definition,lower,upper) :\n",
        "  col_str = \"pi_scaled_{0}\".format(pi)\n",
        "  fuz[col_str]=(fuz[pi]-min(fuz[pi]))/(max(fuz[pi])-min(fuz[pi]))\n",
        "  \n",
        "  x_lat=fuz['LATITUDE']\n",
        "  y_lat=fuz[col_str]\n",
        "  x_long=fuz['LONGITUDE']*-1\n",
        "  y_long=fuz[col_str]\n",
        "\n",
        "  #p=np.poly1d(np.polyfit(x_lat,y_lat,index)) #define polynomial for value finding\n",
        "  g1=fuz[col_str].sort_values().to_list()    #sort values to find values at percentiles\n",
        "  \n",
        "  #define limits on graph\n",
        "  if(limit_definition==\"prc\"):\n",
        "    lower_limit = g1[int(lower * len(g1))]\n",
        "    upper_limit = g1[int(upper * len(g1))]\n",
        "    \n",
        "  elif (limit_definition==\"abs\") :\n",
        "    lower_limit = lower\n",
        "    upper_limit = upper\n",
        "    \n",
        "  else :\n",
        "    raise Exception(\"Please check limit argument\")\n",
        "\n",
        "  np.seterr(all=\"ignore\")\n",
        "  lat_poly=np.polyfit(x_lat,y_lat,index)\n",
        "  long_poly=np.polyfit(x_long,y_long,index)\n",
        "\n",
        "  poly_list = [lat_poly,long_poly]        #define iterables\n",
        "  perc_list = [lower_limit ,upper_limit]  \n",
        "\n",
        "  #find roots\n",
        "\n",
        "  xroots = find_roots(lat_poly, perc_list, index)\n",
        "  yroots = find_roots(long_poly, perc_list, index)\n",
        "\n",
        "  \n",
        "  #print(xroots,yroots)\n",
        "  #fuz.to_excel(\"/content/drive/MyDrive/Practice TDM Run on Bakken Field/Output.xlsx\")\n",
        "\n",
        "  xroots.sort()\n",
        "  yroots.sort()\n",
        "  print(\"\\n\")\n",
        "  #print(xroots,yroots)\n",
        "\n",
        "  print(\"xroots=\",xroots,\"yroots=\",yroots)\n",
        "\n",
        "  # plotf(x_lat,y_lat,lower_limit,upper_limit,index)\n",
        "  plotf(x_long,y_long,lower_limit,upper_limit,index)\n",
        "\n",
        "  print(\"------------------------------------------------\"+pi+\"----------------------------------------------------------------------------------\")\n",
        "  # bl=[]\n",
        "  # lower_line=[]\n",
        "  # upper_line=[]\n",
        "  # p=np.poly1d(np.polyfit(x_long,y_long,50)) \n",
        "  # xp=np.linspace(102.08,102.35,2000)\n",
        "  # for j in range(len(xp)):\n",
        "  #   lower_line.append(lower_limit)\n",
        "  #   upper_line.append(upper_limit)\n",
        "  # plt.figure()\n",
        "  # _=plt.plot(xp,p(xp),'*',xp,lower_line,\"-\",xp,upper_line,\"+\")\n",
        "  # plt.ylim(0,1)\n",
        "  # bl.append(index)\n",
        "  # plt.legend(bl)\n",
        "  # bl=[]\n",
        "  # plt.scatter(x_long,y_long)\n",
        "  # fig.set_size_inches(25,25)\n",
        "  # fig.clear(True)\n",
        "\n",
        "  #define color dictionary\n",
        "  # colors={2:'red',3:'orange',4:'yellow',5:'blue',6:'green'}\n",
        "\n",
        "\n",
        "  # # define Matplotlib figure and axis\n",
        "  # fig, ax = plt.subplots()\n",
        "\n",
        "  # x_sum=0\n",
        "  # y_sum=0\n",
        "  # sum=0\n",
        "\n",
        "  # #create simple line plot\n",
        "  # ax.scatter(x_lat,x_long)\n",
        "  # for i in range(len(xroots)-1):\n",
        "  #   a = [xroots[i], xroots[i+1]]\n",
        "  #   a_mid=(a[0]+a[1])/2\n",
        "  #   x1=xroots[i]\n",
        "  #   x2=xroots[i+1]\n",
        "    \n",
        "  #   x_val=np.polyval((np.poly1d(lat_poly)),a_mid)\n",
        "\n",
        "  #   if (x_val<=lower):\n",
        "  #     x_sum=1\n",
        "  #   elif (x_val>lower_limit and x_val <upper_limit):\n",
        "  #     x_sum=2\n",
        "  #   else:\n",
        "  #     x_sum=3\n",
        "\n",
        "\n",
        "  #   for j in range(len(yroots)-1):\n",
        "  #     b = [yroots[j],yroots[j+1]]\n",
        "      \n",
        "  #     y1=yroots[j]\n",
        "  #     y2=yroots[j+1]\n",
        "\n",
        "  #     bottoml=x1,y1\n",
        "  #     topr=x2,y2\n",
        "\n",
        "  #     b_mid=(b[0]+b[1])/2\n",
        "  #     print(\"a_mid=\",a_mid,\"b_mid=\",b_mid)\n",
        "  #     y_val=np.polyval((np.poly1d(long_poly)),b_mid)\n",
        "  #     print(x_val,y_val)\n",
        "  #     if (y_val<=lower):\n",
        "  #       y_sum=1\n",
        "  #     elif (y_val>lower_limit & y_val <upper_limit):\n",
        "  #       y_sum=2\n",
        "  #     else:\n",
        "  #       y_sum=3\n",
        "      \n",
        "  #     sum=x_sum+y_sum\n",
        "\n",
        "  #     for latx,laty in arr :\n",
        "  #       point=latx,laty\n",
        "  #       if(solve(bottoml,topr,point)):\n",
        "  #         fuz[fuz['LATITUDE']=latx and fuz['LONGITUDE']]['well_fuzzy_value']=sum\n",
        "\n",
        "  #   #add rectangle to plot\n",
        "  #     ax.add_patch(Rectangle((a[0], b[0]), (a[1] - a[0]), (b[1] - b[0]),facecolor = colors[sum],fill=True,lw=5,alpha=0.4))\n",
        "  #     print(x_sum,y_sum,sum)\n",
        "  # #display plot \n",
        "  # plt.xlim(47.8,48.3)\n",
        "  # plt.ylim(-102.32,-102.09)\n",
        "  # plt.show()\n",
        "  \n",
        "\n"
      ],
      "execution_count": null,
      "outputs": []
    },
    {
      "cell_type": "markdown",
      "metadata": {
        "id": "bErt4FGjRwzy"
      },
      "source": [
        "\n",
        "This code is able to produce roots for both X and Y . We need to check if the roots are OK or not . Pull MATLAB if available and run a code to check for roots. If match is found then we proceed."
      ]
    },
    {
      "cell_type": "code",
      "metadata": {
        "id": "DlQSxVHiyDqK"
      },
      "source": [
        "pi=\"CUM_3_MONTH\"\n",
        "\n",
        "#fuzzy(pi,24,\"abs\",0.19566725730255394,0.369582343949115)\n",
        "fuzzy(pi,10,\"abs\",0.22,0.25)\n",
        "  "
      ],
      "execution_count": null,
      "outputs": []
    },
    {
      "cell_type": "code",
      "metadata": {
        "id": "lDQ5ghLmoMLw"
      },
      "source": [
        "# fuz['well_fuzzy_value']"
      ],
      "execution_count": null,
      "outputs": []
    },
    {
      "cell_type": "markdown",
      "metadata": {
        "id": "RniIN4VOFtL0"
      },
      "source": [
        "Supposing we have correct roots and clear fuzzy diagram, we will now draw the trend analysis."
      ]
    }
  ]
}