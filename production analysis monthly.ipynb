{
 "cells": [
  {
   "cell_type": "code",
   "execution_count": 1,
   "metadata": {},
   "outputs": [],
   "source": [
    "import pandas as pd\n",
    "import numpy as np\n",
    "import matplotlib.pyplot as plt\n",
    "import seaborn as sns\n",
    "sns.set()\n",
    "\n"
   ]
  },
  {
   "cell_type": "code",
   "execution_count": 2,
   "metadata": {},
   "outputs": [],
   "source": [
    "monthly = pd.read_excel(open(r\"Volve production data.xlsx\",'rb'),sheet_name='Monthly Production Data' )"
   ]
  },
  {
   "cell_type": "code",
   "execution_count": 3,
   "metadata": {},
   "outputs": [],
   "source": [
    "old_names=monthly.columns\n",
    "new_names=['Wellbore_name', 'NPDCode', 'Year', 'Month', 'On_Stream_Hrs', 'Oil_Sm3', 'Gas_Sm3',\n",
    "       'Water_Sm3', 'GI_Sm3', 'WI_Sm3']\n",
    "monthly.rename(columns=dict(zip(old_names, new_names)), inplace=True)\n",
    "monthly.drop(index=0,inplace=True)"
   ]
  },
  {
   "cell_type": "code",
   "execution_count": 4,
   "metadata": {},
   "outputs": [
    {
     "name": "stdout",
     "output_type": "stream",
     "text": [
      "  Wellbore_name  NPDCode    Year  Month On_Stream_Hrs  Oil_Sm3      Gas_Sm3  \\\n",
      "1    15/9-F-1 C   7405.0  2014.0    4.0         227.5  11142.5  1.59794e+06   \n",
      "2    15/9-F-1 C   7405.0  2014.0    5.0       733.833    24902  3.49623e+06   \n",
      "3    15/9-F-1 C   7405.0  2014.0    6.0       705.917  19617.8  2.88666e+06   \n",
      "4    15/9-F-1 C   7405.0  2014.0    7.0       742.417  15085.7  2.24937e+06   \n",
      "5    15/9-F-1 C   7405.0  2014.0    8.0       432.992  6970.43  1.04819e+06   \n",
      "\n",
      "  Water_Sm3 GI_Sm3 WI_Sm3  \n",
      "1         0    NaN    NaN  \n",
      "2    783.48    NaN    NaN  \n",
      "3   2068.48    NaN    NaN  \n",
      "4   6243.98    NaN    NaN  \n",
      "5   4529.75    NaN    NaN  \n"
     ]
    }
   ],
   "source": [
    "print(monthly.head(5))"
   ]
  },
  {
   "cell_type": "code",
   "execution_count": 5,
   "metadata": {},
   "outputs": [],
   "source": [
    "monthly.drop(columns='GI_Sm3', inplace=True)"
   ]
  },
  {
   "cell_type": "code",
   "execution_count": 6,
   "metadata": {},
   "outputs": [],
   "source": [
    "monthly['WI_Sm3'].fillna(value=0 , inplace=True)"
   ]
  },
  {
   "cell_type": "code",
   "execution_count": 7,
   "metadata": {},
   "outputs": [
    {
     "data": {
      "text/html": [
       "<div>\n",
       "<style scoped>\n",
       "    .dataframe tbody tr th:only-of-type {\n",
       "        vertical-align: middle;\n",
       "    }\n",
       "\n",
       "    .dataframe tbody tr th {\n",
       "        vertical-align: top;\n",
       "    }\n",
       "\n",
       "    .dataframe thead th {\n",
       "        text-align: right;\n",
       "    }\n",
       "</style>\n",
       "<table border=\"1\" class=\"dataframe\">\n",
       "  <thead>\n",
       "    <tr style=\"text-align: right;\">\n",
       "      <th></th>\n",
       "      <th>Wellbore_name</th>\n",
       "      <th>NPDCode</th>\n",
       "      <th>Year</th>\n",
       "      <th>Month</th>\n",
       "      <th>On_Stream_Hrs</th>\n",
       "      <th>Oil_Sm3</th>\n",
       "      <th>Gas_Sm3</th>\n",
       "      <th>Water_Sm3</th>\n",
       "      <th>WI_Sm3</th>\n",
       "    </tr>\n",
       "  </thead>\n",
       "  <tbody>\n",
       "    <tr>\n",
       "      <th>1</th>\n",
       "      <td>15/9-F-1 C</td>\n",
       "      <td>7405.0</td>\n",
       "      <td>2014.0</td>\n",
       "      <td>4.0</td>\n",
       "      <td>227.5</td>\n",
       "      <td>11142.5</td>\n",
       "      <td>1.59794e+06</td>\n",
       "      <td>0</td>\n",
       "      <td>0.0</td>\n",
       "    </tr>\n",
       "    <tr>\n",
       "      <th>2</th>\n",
       "      <td>15/9-F-1 C</td>\n",
       "      <td>7405.0</td>\n",
       "      <td>2014.0</td>\n",
       "      <td>5.0</td>\n",
       "      <td>733.833</td>\n",
       "      <td>24902</td>\n",
       "      <td>3.49623e+06</td>\n",
       "      <td>783.48</td>\n",
       "      <td>0.0</td>\n",
       "    </tr>\n",
       "    <tr>\n",
       "      <th>3</th>\n",
       "      <td>15/9-F-1 C</td>\n",
       "      <td>7405.0</td>\n",
       "      <td>2014.0</td>\n",
       "      <td>6.0</td>\n",
       "      <td>705.917</td>\n",
       "      <td>19617.8</td>\n",
       "      <td>2.88666e+06</td>\n",
       "      <td>2068.48</td>\n",
       "      <td>0.0</td>\n",
       "    </tr>\n",
       "    <tr>\n",
       "      <th>4</th>\n",
       "      <td>15/9-F-1 C</td>\n",
       "      <td>7405.0</td>\n",
       "      <td>2014.0</td>\n",
       "      <td>7.0</td>\n",
       "      <td>742.417</td>\n",
       "      <td>15085.7</td>\n",
       "      <td>2.24937e+06</td>\n",
       "      <td>6243.98</td>\n",
       "      <td>0.0</td>\n",
       "    </tr>\n",
       "    <tr>\n",
       "      <th>5</th>\n",
       "      <td>15/9-F-1 C</td>\n",
       "      <td>7405.0</td>\n",
       "      <td>2014.0</td>\n",
       "      <td>8.0</td>\n",
       "      <td>432.992</td>\n",
       "      <td>6970.43</td>\n",
       "      <td>1.04819e+06</td>\n",
       "      <td>4529.75</td>\n",
       "      <td>0.0</td>\n",
       "    </tr>\n",
       "  </tbody>\n",
       "</table>\n",
       "</div>"
      ],
      "text/plain": [
       "  Wellbore_name  NPDCode    Year  Month On_Stream_Hrs  Oil_Sm3      Gas_Sm3  \\\n",
       "1    15/9-F-1 C   7405.0  2014.0    4.0         227.5  11142.5  1.59794e+06   \n",
       "2    15/9-F-1 C   7405.0  2014.0    5.0       733.833    24902  3.49623e+06   \n",
       "3    15/9-F-1 C   7405.0  2014.0    6.0       705.917  19617.8  2.88666e+06   \n",
       "4    15/9-F-1 C   7405.0  2014.0    7.0       742.417  15085.7  2.24937e+06   \n",
       "5    15/9-F-1 C   7405.0  2014.0    8.0       432.992  6970.43  1.04819e+06   \n",
       "\n",
       "  Water_Sm3  WI_Sm3  \n",
       "1         0     0.0  \n",
       "2    783.48     0.0  \n",
       "3   2068.48     0.0  \n",
       "4   6243.98     0.0  \n",
       "5   4529.75     0.0  "
      ]
     },
     "execution_count": 7,
     "metadata": {},
     "output_type": "execute_result"
    }
   ],
   "source": [
    "monthly.head()"
   ]
  },
  {
   "cell_type": "code",
   "execution_count": 8,
   "metadata": {},
   "outputs": [],
   "source": [
    "monthly['Month']=monthly['Month'].astype(int)\n",
    "monthly['Year']=monthly['Year'].astype(int)       "
   ]
  },
  {
   "cell_type": "code",
   "execution_count": 9,
   "metadata": {},
   "outputs": [],
   "source": [
    "def numConcat(num1, num2):  \n",
    "        num1 = str(num1) \n",
    "        num2 = str(num2) \n",
    "          \n",
    "        \n",
    "        num1 += num2 \n",
    "          \n",
    "        return int(num1) "
   ]
  },
  {
   "cell_type": "code",
   "execution_count": 10,
   "metadata": {},
   "outputs": [],
   "source": [
    "date_format= zip(monthly['Month'],monthly['Year'])\n",
    "date_string=[]\n",
    "\n",
    "for x,y in date_format :\n",
    "    date= numConcat(x,y)\n",
    "    date_string.append(date)"
   ]
  },
  {
   "cell_type": "code",
   "execution_count": 11,
   "metadata": {},
   "outputs": [],
   "source": [
    "import datetime\n",
    "\n",
    "date_final=[]\n",
    "\n",
    "for item in date_string :\n",
    "    date_str = str(item)\n",
    "    format_str = '%m%Y' \n",
    "    datetime_obj = datetime.datetime.strptime(date_str, format_str)\n",
    "    date_final.append(datetime_obj)"
   ]
  },
  {
   "cell_type": "code",
   "execution_count": 12,
   "metadata": {},
   "outputs": [],
   "source": [
    "monthly['Month_Year']=date_final"
   ]
  },
  {
   "cell_type": "code",
   "execution_count": 13,
   "metadata": {},
   "outputs": [
    {
     "data": {
      "text/html": [
       "<div>\n",
       "<style scoped>\n",
       "    .dataframe tbody tr th:only-of-type {\n",
       "        vertical-align: middle;\n",
       "    }\n",
       "\n",
       "    .dataframe tbody tr th {\n",
       "        vertical-align: top;\n",
       "    }\n",
       "\n",
       "    .dataframe thead th {\n",
       "        text-align: right;\n",
       "    }\n",
       "</style>\n",
       "<table border=\"1\" class=\"dataframe\">\n",
       "  <thead>\n",
       "    <tr style=\"text-align: right;\">\n",
       "      <th></th>\n",
       "      <th>NPDCode</th>\n",
       "      <th>Year</th>\n",
       "      <th>Month</th>\n",
       "      <th>On_Stream_Hrs</th>\n",
       "      <th>Oil_Sm3</th>\n",
       "      <th>Gas_Sm3</th>\n",
       "      <th>Water_Sm3</th>\n",
       "      <th>WI_Sm3</th>\n",
       "      <th>Month_Year</th>\n",
       "    </tr>\n",
       "    <tr>\n",
       "      <th>Wellbore_name</th>\n",
       "      <th></th>\n",
       "      <th></th>\n",
       "      <th></th>\n",
       "      <th></th>\n",
       "      <th></th>\n",
       "      <th></th>\n",
       "      <th></th>\n",
       "      <th></th>\n",
       "      <th></th>\n",
       "    </tr>\n",
       "  </thead>\n",
       "  <tbody>\n",
       "    <tr>\n",
       "      <th>15/9-F-1 C</th>\n",
       "      <td>7405.0</td>\n",
       "      <td>2014</td>\n",
       "      <td>4</td>\n",
       "      <td>227.50000</td>\n",
       "      <td>11142.47</td>\n",
       "      <td>1597936.65</td>\n",
       "      <td>0.00</td>\n",
       "      <td>0.0</td>\n",
       "      <td>2014-04-01</td>\n",
       "    </tr>\n",
       "    <tr>\n",
       "      <th>15/9-F-11</th>\n",
       "      <td>7078.0</td>\n",
       "      <td>2013</td>\n",
       "      <td>7</td>\n",
       "      <td>112.91514</td>\n",
       "      <td>3923.08</td>\n",
       "      <td>590504.52</td>\n",
       "      <td>0.00</td>\n",
       "      <td>0.0</td>\n",
       "      <td>2013-07-01</td>\n",
       "    </tr>\n",
       "    <tr>\n",
       "      <th>15/9-F-12</th>\n",
       "      <td>5599.0</td>\n",
       "      <td>2008</td>\n",
       "      <td>2</td>\n",
       "      <td>406.62499</td>\n",
       "      <td>49091.06</td>\n",
       "      <td>7068009.29</td>\n",
       "      <td>412.61</td>\n",
       "      <td>0.0</td>\n",
       "      <td>2008-02-01</td>\n",
       "    </tr>\n",
       "    <tr>\n",
       "      <th>15/9-F-14</th>\n",
       "      <td>5351.0</td>\n",
       "      <td>2008</td>\n",
       "      <td>2</td>\n",
       "      <td>0.00000</td>\n",
       "      <td>0.00</td>\n",
       "      <td>0.00</td>\n",
       "      <td>0.00</td>\n",
       "      <td>0.0</td>\n",
       "      <td>2008-02-01</td>\n",
       "    </tr>\n",
       "    <tr>\n",
       "      <th>15/9-F-15 D</th>\n",
       "      <td>7289.0</td>\n",
       "      <td>2014</td>\n",
       "      <td>1</td>\n",
       "      <td>339.91667</td>\n",
       "      <td>5674.63</td>\n",
       "      <td>820968.96</td>\n",
       "      <td>0.00</td>\n",
       "      <td>0.0</td>\n",
       "      <td>2014-01-01</td>\n",
       "    </tr>\n",
       "    <tr>\n",
       "      <th>15/9-F-4</th>\n",
       "      <td>5693.0</td>\n",
       "      <td>2007</td>\n",
       "      <td>9</td>\n",
       "      <td>0.00000</td>\n",
       "      <td>NaN</td>\n",
       "      <td>NaN</td>\n",
       "      <td>NaN</td>\n",
       "      <td>0.0</td>\n",
       "      <td>2007-09-01</td>\n",
       "    </tr>\n",
       "    <tr>\n",
       "      <th>15/9-F-5</th>\n",
       "      <td>5769.0</td>\n",
       "      <td>2007</td>\n",
       "      <td>9</td>\n",
       "      <td>0.00000</td>\n",
       "      <td>3400.61</td>\n",
       "      <td>538638.56</td>\n",
       "      <td>2380.78</td>\n",
       "      <td>0.0</td>\n",
       "      <td>2007-09-01</td>\n",
       "    </tr>\n",
       "  </tbody>\n",
       "</table>\n",
       "</div>"
      ],
      "text/plain": [
       "               NPDCode  Year  Month  On_Stream_Hrs   Oil_Sm3     Gas_Sm3  \\\n",
       "Wellbore_name                                                              \n",
       "15/9-F-1 C      7405.0  2014      4      227.50000  11142.47  1597936.65   \n",
       "15/9-F-11       7078.0  2013      7      112.91514   3923.08   590504.52   \n",
       "15/9-F-12       5599.0  2008      2      406.62499  49091.06  7068009.29   \n",
       "15/9-F-14       5351.0  2008      2        0.00000      0.00        0.00   \n",
       "15/9-F-15 D     7289.0  2014      1      339.91667   5674.63   820968.96   \n",
       "15/9-F-4        5693.0  2007      9        0.00000       NaN         NaN   \n",
       "15/9-F-5        5769.0  2007      9        0.00000   3400.61   538638.56   \n",
       "\n",
       "               Water_Sm3  WI_Sm3 Month_Year  \n",
       "Wellbore_name                                \n",
       "15/9-F-1 C          0.00     0.0 2014-04-01  \n",
       "15/9-F-11           0.00     0.0 2013-07-01  \n",
       "15/9-F-12         412.61     0.0 2008-02-01  \n",
       "15/9-F-14           0.00     0.0 2008-02-01  \n",
       "15/9-F-15 D         0.00     0.0 2014-01-01  \n",
       "15/9-F-4             NaN     0.0 2007-09-01  \n",
       "15/9-F-5         2380.78     0.0 2007-09-01  "
      ]
     },
     "execution_count": 13,
     "metadata": {},
     "output_type": "execute_result"
    }
   ],
   "source": [
    "monthly.groupby('Wellbore_name').first()"
   ]
  },
  {
   "cell_type": "code",
   "execution_count": 14,
   "metadata": {},
   "outputs": [],
   "source": [
    "monthlyF5 = monthly.groupby('Wellbore_name').get_group('15/9-F-5')\n",
    "monthlyF4 = monthly.groupby('Wellbore_name').get_group('15/9-F-4')\n",
    "monthlyF15D = monthly.groupby('Wellbore_name').get_group('15/9-F-15 D')\n",
    "monthlyF14 = monthly.groupby('Wellbore_name').get_group('15/9-F-14')\n",
    "monthlyF12 = monthly.groupby('Wellbore_name').get_group('15/9-F-12')\n",
    "monthlyF11 = monthly.groupby('Wellbore_name').get_group('15/9-F-11')\n",
    "monthlyF1C = monthly.groupby('Wellbore_name').get_group('15/9-F-1 C')"
   ]
  },
  {
   "cell_type": "code",
   "execution_count": 15,
   "metadata": {},
   "outputs": [
    {
     "name": "stderr",
     "output_type": "stream",
     "text": [
      "C:\\Users\\hp\\anaconda3\\lib\\site-packages\\pandas\\core\\frame.py:3990: SettingWithCopyWarning: \n",
      "A value is trying to be set on a copy of a slice from a DataFrame\n",
      "\n",
      "See the caveats in the documentation: https://pandas.pydata.org/pandas-docs/stable/user_guide/indexing.html#returning-a-view-versus-a-copy\n",
      "  return super().drop(\n"
     ]
    }
   ],
   "source": [
    "monthlyF5.drop(columns=['Month','Year'], inplace = True)\n",
    "monthlyF4.drop(columns=['Month','Year'], inplace = True) \n",
    "monthlyF15D.drop(columns=['Month','Year'], inplace = True)\n",
    "monthlyF14.drop(columns=['Month','Year'], inplace = True) \n",
    "monthlyF12.drop(columns=['Month','Year'], inplace = True)\n",
    "monthlyF11.drop(columns=['Month','Year'], inplace = True)\n",
    "monthlyF1C.drop(columns=['Month','Year'], inplace = True)"
   ]
  },
  {
   "cell_type": "code",
   "execution_count": 16,
   "metadata": {},
   "outputs": [],
   "source": [
    "def func(frame) :\n",
    "    \n",
    "    \n",
    "    frame['Total_production'] = frame['Oil_Sm3']+ frame['Water_Sm3'] + frame['Gas_Sm3']\n",
    "    frame['Cumulated_Oil_Production'] = frame['Oil_Sm3'].cumsum()\n",
    "    frame['Cumulated_Water_Production'] = frame['Water_Sm3'].cumsum()\n",
    "    frame['Cumulated_Water_Injection'] = frame['WI_Sm3'].cumsum()\n",
    "    frame['Cumulated_production'] = frame['Total_production'].cumsum()\n"
   ]
  },
  {
   "cell_type": "code",
   "execution_count": 17,
   "metadata": {},
   "outputs": [
    {
     "name": "stderr",
     "output_type": "stream",
     "text": [
      "<ipython-input-16-a6ff64f7a6fa>:4: SettingWithCopyWarning: \n",
      "A value is trying to be set on a copy of a slice from a DataFrame.\n",
      "Try using .loc[row_indexer,col_indexer] = value instead\n",
      "\n",
      "See the caveats in the documentation: https://pandas.pydata.org/pandas-docs/stable/user_guide/indexing.html#returning-a-view-versus-a-copy\n",
      "  frame['Total_production'] = frame['Oil_Sm3']+ frame['Water_Sm3'] + frame['Gas_Sm3']\n",
      "<ipython-input-16-a6ff64f7a6fa>:5: SettingWithCopyWarning: \n",
      "A value is trying to be set on a copy of a slice from a DataFrame.\n",
      "Try using .loc[row_indexer,col_indexer] = value instead\n",
      "\n",
      "See the caveats in the documentation: https://pandas.pydata.org/pandas-docs/stable/user_guide/indexing.html#returning-a-view-versus-a-copy\n",
      "  frame['Cumulated_Oil_Production'] = frame['Oil_Sm3'].cumsum()\n",
      "<ipython-input-16-a6ff64f7a6fa>:6: SettingWithCopyWarning: \n",
      "A value is trying to be set on a copy of a slice from a DataFrame.\n",
      "Try using .loc[row_indexer,col_indexer] = value instead\n",
      "\n",
      "See the caveats in the documentation: https://pandas.pydata.org/pandas-docs/stable/user_guide/indexing.html#returning-a-view-versus-a-copy\n",
      "  frame['Cumulated_Water_Production'] = frame['Water_Sm3'].cumsum()\n",
      "<ipython-input-16-a6ff64f7a6fa>:7: SettingWithCopyWarning: \n",
      "A value is trying to be set on a copy of a slice from a DataFrame.\n",
      "Try using .loc[row_indexer,col_indexer] = value instead\n",
      "\n",
      "See the caveats in the documentation: https://pandas.pydata.org/pandas-docs/stable/user_guide/indexing.html#returning-a-view-versus-a-copy\n",
      "  frame['Cumulated_Water_Injection'] = frame['WI_Sm3'].cumsum()\n",
      "<ipython-input-16-a6ff64f7a6fa>:8: SettingWithCopyWarning: \n",
      "A value is trying to be set on a copy of a slice from a DataFrame.\n",
      "Try using .loc[row_indexer,col_indexer] = value instead\n",
      "\n",
      "See the caveats in the documentation: https://pandas.pydata.org/pandas-docs/stable/user_guide/indexing.html#returning-a-view-versus-a-copy\n",
      "  frame['Cumulated_production'] = frame['Total_production'].cumsum()\n"
     ]
    }
   ],
   "source": [
    "func(monthlyF1C)\n",
    "func(monthlyF5)\n",
    "func(monthlyF4)\n",
    "func(monthlyF11)\n",
    "func(monthlyF12)\n",
    "func(monthlyF14)\n",
    "func(monthlyF15D)\n"
   ]
  },
  {
   "cell_type": "code",
   "execution_count": 18,
   "metadata": {},
   "outputs": [],
   "source": [
    "def plotF(frame) :\n",
    "    plt.scatter(frame['Month_Year'],frame['Total_production'])\n",
    "    plt.xlabel(\"Time\")\n",
    "    plt.ylabel(\"Production Rate\")\n",
    "    plt.xticks(rotation = 45)\n",
    "    plt.show()"
   ]
  },
  {
   "cell_type": "code",
   "execution_count": 19,
   "metadata": {},
   "outputs": [
    {
     "data": {
      "image/png": "[encoded data removed]",
      "text/plain": [
       "<Figure size 432x288 with 1 Axes>"
      ]
     },
     "metadata": {},
     "output_type": "display_data"
    }
   ],
   "source": [
    "plotF(monthlyF14)"
   ]
  },
  {
   "cell_type": "code",
   "execution_count": null,
   "metadata": {},
   "outputs": [],
   "source": []
  }
 ],
 "metadata": {
  "kernelspec": {
   "display_name": "Python 3",
   "language": "python",
   "name": "python3"
  },
  "language_info": {
   "codemirror_mode": {
    "name": "ipython",
    "version": 3
   },
   "file_extension": ".py",
   "mimetype": "text/x-python",
   "name": "python",
   "nbconvert_exporter": "python",
   "pygments_lexer": "ipython3",
   "version": "3.8.3"
  }
 },
 "nbformat": 4,
 "nbformat_minor": 4
}
