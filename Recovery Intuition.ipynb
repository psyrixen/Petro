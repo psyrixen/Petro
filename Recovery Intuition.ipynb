{
 "cells": [
  {
   "cell_type": "code",
   "execution_count": 2,
   "metadata": {},
   "outputs": [],
   "source": [
    "import numpy as np\n",
    "import matplotlib.pyplot as plt\n",
    "import pandas as pd"
   ]
  },
  {
   "cell_type": "code",
   "execution_count": 3,
   "metadata": {},
   "outputs": [],
   "source": [
    "swi=0.2\n",
    "soi=0.8\n",
    "sor=0.25\n",
    "visc_water=1\n",
    "visc_oil=[10,50,100,500,5000]\n",
    "\n",
    "rec=np.arange(0.01,0.51,step=0.01)"
   ]
  },
  {
   "cell_type": "code",
   "execution_count": 4,
   "metadata": {},
   "outputs": [],
   "source": [
    "snorm=[]\n",
    "sw_calc=[]\n",
    "so_calc=[]\n",
    "krw_calc=[]\n",
    "kro_calc=[]\n",
    "fw_calc_10=[]\n",
    "fw_calc_50=[]\n",
    "fw_calc_100=[]\n",
    "fw_calc_500=[]\n",
    "fw_calc_5000=[]\n",
    "\n",
    "fw_arr=[fw_calc_10,fw_calc_50,fw_calc_100,fw_calc_500,fw_calc_5000]\n",
    "\n",
    "for i in range(len(rec)) :\n",
    "    \n",
    "    so=soi-soi*rec[i]\n",
    "    sw=1-so\n",
    "    s_norm=(sw-swi)/(1-swi-sor)\n",
    "    krw=s_norm**3\n",
    "    kro=(1-s_norm)**3\n",
    "    \n",
    "    for j in range(5) :\n",
    "            fw=1/(1+((kro*visc_water)/(krw*visc_oil[j])))\n",
    "            fw_arr[j].append(fw)\n",
    "\n",
    "    snorm.append(s_norm)\n",
    "    sw_calc.append(sw)\n",
    "    so_calc.append(so)\n",
    "    kro_calc.append(kro)\n",
    "    krw_calc.append(krw)\n",
    "    "
   ]
  },
  {
   "cell_type": "code",
   "execution_count": 5,
   "metadata": {},
   "outputs": [],
   "source": [
    "df=pd.DataFrame()"
   ]
  },
  {
   "cell_type": "code",
   "execution_count": 6,
   "metadata": {},
   "outputs": [],
   "source": [
    "df['Recovery']=pd.Series(rec)\n",
    "df['Oil Saturation']= pd.Series(so_calc)\n",
    "df['Water Saturation']=pd.Series(sw_calc)\n",
    "df['Normalized Water Saturation']=pd.Series(snorm)\n",
    "df['Relative Water Permeability']=pd.Series(krw_calc)\n",
    "df['Relative Oil Permeability']=pd.Series(kro_calc)\n",
    "df['Fw at 10cp']=pd.Series(fw_calc_10)\n",
    "df['Fw at 50cp']=pd.Series(fw_calc_50)\n",
    "df['Fw at 100cp']=pd.Series(fw_calc_100)\n",
    "df['Fw at 500cp']=pd.Series(fw_calc_500)\n",
    "df['Fw at 5000cp']=pd.Series(fw_calc_5000)"
   ]
  },
  {
   "cell_type": "code",
   "execution_count": 7,
   "metadata": {},
   "outputs": [
    {
     "name": "stdout",
     "output_type": "stream",
     "text": [
      "   Recovery  Oil Saturation  Water Saturation  Normalized Water Saturation  \\\n",
      "0      0.01           0.792             0.208                     0.014545   \n",
      "1      0.02           0.784             0.216                     0.029091   \n",
      "\n",
      "   Relative Water Permeability  Relative Oil Permeability  Fw at 10cp  \\\n",
      "0                     0.000003                   0.956995    0.000032   \n",
      "1                     0.000025                   0.915241    0.000269   \n",
      "\n",
      "   Fw at 50cp  Fw at 100cp  Fw at 500cp  Fw at 5000cp  \n",
      "0    0.000161     0.000321     0.001605      0.015824  \n",
      "1    0.001343     0.002683     0.013271      0.118551  \n"
     ]
    }
   ],
   "source": [
    "fw_names=['Fw at 10cp', 'Fw at 50cp', 'Fw at 100cp','Fw at 500cp', 'Fw at 5000cp']\n",
    "print(df.head(2))"
   ]
  },
  {
   "cell_type": "code",
   "execution_count": 8,
   "metadata": {},
   "outputs": [
    {
     "name": "stdout",
     "output_type": "stream",
     "text": [
      "<matplotlib.collections.PathCollection object at 0x000001DDBD206608>\n",
      "<matplotlib.collections.PathCollection object at 0x000001DDBE972388>\n",
      "<matplotlib.collections.PathCollection object at 0x000001DDBE98ECC8>\n",
      "<matplotlib.collections.PathCollection object at 0x000001DDBE9A1A48>\n",
      "<matplotlib.collections.PathCollection object at 0x000001DDBE9A1688>\n"
     ]
    },
    {
     "data": {
      "image/png": "[encoded data removed]",
      "text/plain": [
       "<Figure size 432x288 with 1 Axes>"
      ]
     },
     "metadata": {
      "needs_background": "light"
     },
     "output_type": "display_data"
    }
   ],
   "source": [
    "for item in fw_names :\n",
    "    water=plt.scatter('Water Saturation' , item, data=df,s=8)\n",
    "    plt.xlabel('Water Saturation')\n",
    "    plt.ylabel('Fw')\n",
    "    plt.legend()\n",
    "    print(water)"
   ]
  },
  {
   "cell_type": "markdown",
   "metadata": {},
   "source": [
    "for item in fw_names:  \n",
    "    rec_plot = plt.plot( 'Recovery' , item,  data=df )\n",
    "    plt.xlabel('Recovery')\n",
    "    plt.ylabel('Fw')\n",
    "    plt.legend()\n",
    "    print(rec_plot)"
   ]
  },
  {
   "cell_type": "code",
   "execution_count": 19,
   "metadata": {},
   "outputs": [
    {
     "data": {
      "text/plain": [
       "[<matplotlib.lines.Line2D at 0x1ddbeb91848>,\n",
       " <matplotlib.lines.Line2D at 0x1ddbebcb388>]"
      ]
     },
     "execution_count": 19,
     "metadata": {},
     "output_type": "execute_result"
    },
    {
     "data": {
      "image/png": "[encoded data removed]",
      "text/plain": [
       "<Figure size 432x288 with 1 Axes>"
      ]
     },
     "metadata": {
      "needs_background": "light"
     },
     "output_type": "display_data"
    }
   ],
   "source": [
    "sat=df['Water Saturation']\n",
    "fw_=df['Fw at 10cp']\n",
    "poly=np.polyfit(sat,fw_,13)\n",
    "func=np.poly1d(poly)\n",
    "plt.plot(sat , func(sat) ,'-', sat,fw_,'.')"
   ]
  },
  {
   "cell_type": "code",
   "execution_count": 10,
   "metadata": {},
   "outputs": [
    {
     "data": {
      "text/plain": [
       "16    0.261720\n",
       "17    0.308523\n",
       "18    0.357753\n",
       "19    0.408460\n",
       "20    0.459642\n",
       "21    0.510316\n",
       "22    0.559589\n",
       "23    0.606703\n",
       "24    0.651068\n",
       "25    0.692273\n",
       "26    0.730074\n",
       "27    0.764378\n",
       "28    0.795214\n",
       "29    0.822705\n",
       "30    0.847042\n",
       "31    0.868456\n",
       "32    0.887200\n",
       "33    0.903534\n",
       "34    0.917714\n",
       "35    0.929983\n",
       "36    0.940569\n",
       "37    0.949678\n",
       "38    0.957498\n",
       "39    0.964199\n",
       "40    0.969927\n",
       "41    0.974815\n",
       "42    0.978977\n",
       "43    0.982513\n",
       "44    0.985512\n",
       "45    0.988048\n",
       "46    0.990187\n",
       "47    0.991986\n",
       "48    0.993495\n",
       "49    0.994754\n",
       "Name: Fw at 10cp, dtype: float64"
      ]
     },
     "execution_count": 10,
     "metadata": {},
     "output_type": "execute_result"
    }
   ],
   "source": [
    "df.iloc[16:,6]"
   ]
  },
  {
   "cell_type": "code",
   "execution_count": 11,
   "metadata": {},
   "outputs": [],
   "source": [
    "import math\n",
    "    \n",
    "def trun(number, decimals=0):\n",
    "    \"\"\"\n",
    "    Returns a value truncated to a specific number of decimal places.\n",
    "    \"\"\"\n",
    "    if not isinstance(decimals, int):\n",
    "        raise TypeError(\"decimal places must be an integer.\")\n",
    "    elif decimals < 0:\n",
    "        raise ValueError(\"decimal places has to be 0 or more.\")\n",
    "    elif decimals == 0:\n",
    "        return math.trunc(number)\n",
    "\n",
    "    factor = 10.0 ** decimals\n",
    "    return math.trunc(number * factor) / factor\n"
   ]
  },
  {
   "cell_type": "code",
   "execution_count": 12,
   "metadata": {},
   "outputs": [
    {
     "name": "stdout",
     "output_type": "stream",
     "text": [
      "48\n"
     ]
    }
   ],
   "source": [
    "def diffCheck(arr):\n",
    "    ans=0\n",
    "    for i in range(len(arr)-1):\n",
    "        \n",
    "        diff=trun(arr[i+1],3)-trun(arr[i],3)\n",
    "        if diff<0.02:\n",
    "            ans=i\n",
    "        else :\n",
    "            continue\n",
    "    return ans\n",
    "\n",
    "run_val=diffCheck(np.array(fw_))\n",
    "print(run_val)"
   ]
  },
  {
   "cell_type": "code",
   "execution_count": 39,
   "metadata": {
    "scrolled": true
   },
   "outputs": [],
   "source": [
    "deriv=np.polyder(poly)\n",
    "x_val=np.arange(0.0,max(sat),0.001)\n",
    "y_val=np.polyval(poly,x_val)\n",
    "der_val=np.polyval(deriv,x_val)\n",
    "\n",
    "perc_acc=[]\n",
    "fw_min=fw_[0]\n",
    "sat_min=sat[0]\n",
    "half=0\n",
    "if(len(sat)%2==0):\n",
    "    half=len(sat)/2\n",
    "else :\n",
    "    half=(len(sat)+1)/2\n",
    "int_half = int(half)\n",
    "\n",
    "for i in range(2 , len(x_val)) :\n",
    "    y2=y_val[i]\n",
    "    y1=fw_[0]\n",
    "    x2=x_val[i]\n",
    "    x1=sat[0]\n",
    "    num=(y2-y1)\n",
    "    den=(x2-x1)\n",
    "    slope=num/den\n",
    "    perc=(der_val[i]-slope)\n",
    "    perc_acc.append(perc)\n"
   ]
  },
  {
   "cell_type": "code",
   "execution_count": 42,
   "metadata": {},
   "outputs": [],
   "source": [
    "hh=pd.Series(perc_acc)"
   ]
  },
  {
   "cell_type": "code",
   "execution_count": 48,
   "metadata": {},
   "outputs": [
    {
     "data": {
      "text/plain": [
       "0.0020657999158894824"
      ]
     },
     "execution_count": 48,
     "metadata": {},
     "output_type": "execute_result"
    }
   ],
   "source": [
    "gg=hh[(hh>0)&(hh!=0.0020657999158894824)]i.0020657999158894824\n",
    "min(gg)"
   ]
  },
  {
   "cell_type": "code",
   "execution_count": 47,
   "metadata": {},
   "outputs": [
    {
     "name": "stdout",
     "output_type": "stream",
     "text": [
      "205    0.002066\n",
      "dtype: float64\n"
     ]
    }
   ],
   "source": [
    "print(gg[gg==min(gg)])"
   ]
  },
  {
   "cell_type": "code",
   "execution_count": 49,
   "metadata": {},
   "outputs": [
    {
     "name": "stdout",
     "output_type": "stream",
     "text": [
      "0.20700000000000002\n"
     ]
    }
   ],
   "source": [
    "print(x_val[207])"
   ]
  },
  {
   "cell_type": "code",
   "execution_count": null,
   "metadata": {},
   "outputs": [],
   "source": []
  }
 ],
 "metadata": {
  "kernelspec": {
   "display_name": "Python 3",
   "language": "python",
   "name": "python3"
  },
  "language_info": {
   "codemirror_mode": {
    "name": "ipython",
    "version": 3
   },
   "file_extension": ".py",
   "mimetype": "text/x-python",
   "name": "python",
   "nbconvert_exporter": "python",
   "pygments_lexer": "ipython3",
   "version": "3.7.4"
  }
 },
 "nbformat": 4,
 "nbformat_minor": 2
}
