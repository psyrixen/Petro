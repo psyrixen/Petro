{
 "cells": [
  {
   "cell_type": "code",
   "execution_count": 2,
   "metadata": {},
   "outputs": [],
   "source": [
    "import numpy as np\n",
    "import matplotlib.pyplot as plt\n",
    "import pandas as pd"
   ]
  },
  {
   "cell_type": "code",
   "execution_count": 3,
   "metadata": {},
   "outputs": [],
   "source": [
    "swi=0.2\n",
    "soi=0.8\n",
    "sor=0.25\n",
    "visc_water=1\n",
    "visc_oil=[10,50,100,500,5000]\n",
    "\n",
    "rec=np.arange(0.01,0.51,step=0.01)"
   ]
  },
  {
   "cell_type": "code",
   "execution_count": 4,
   "metadata": {},
   "outputs": [],
   "source": [
    "snorm=[]\n",
    "sw_calc=[]\n",
    "so_calc=[]\n",
    "krw_calc=[]\n",
    "kro_calc=[]\n",
    "fw_calc_10=[]\n",
    "fw_calc_50=[]\n",
    "fw_calc_100=[]\n",
    "fw_calc_500=[]\n",
    "fw_calc_5000=[]\n",
    "\n",
    "fw_arr=[fw_calc_10,fw_calc_50,fw_calc_100,fw_calc_500,fw_calc_5000]\n",
    "\n",
    "for i in range(len(rec)) :\n",
    "    \n",
    "    so=soi-soi*rec[i]\n",
    "    sw=1-so\n",
    "    s_norm=(sw-swi)/(1-swi-sor)\n",
    "    krw=s_norm**3\n",
    "    kro=(1-s_norm)**3\n",
    "    \n",
    "    for j in range(5) :\n",
    "            fw=1/(1+((kro*visc_water)/(krw*visc_oil[j])))\n",
    "            fw_arr[j].append(fw)\n",
    "\n",
    "    snorm.append(s_norm)\n",
    "    sw_calc.append(sw)\n",
    "    so_calc.append(so)\n",
    "    kro_calc.append(kro)\n",
    "    krw_calc.append(krw)\n",
    "    "
   ]
  },
  {
   "cell_type": "code",
   "execution_count": 5,
   "metadata": {},
   "outputs": [],
   "source": [
    "df=pd.DataFrame()"
   ]
  },
  {
   "cell_type": "code",
   "execution_count": 6,
   "metadata": {},
   "outputs": [],
   "source": [
    "df['Recovery']=pd.Series(rec)\n",
    "df['Oil Saturation']= pd.Series(so_calc)\n",
    "df['Water Saturation']=pd.Series(sw_calc)\n",
    "df['Normalized Water Saturation']=pd.Series(snorm)\n",
    "df['Relative Water Permeability']=pd.Series(krw_calc)\n",
    "df['Relative Oil Permeability']=pd.Series(kro_calc)\n",
    "df['Fw at 10cp']=pd.Series(fw_calc_10)\n",
    "df['Fw at 50cp']=pd.Series(fw_calc_50)\n",
    "df['Fw at 100cp']=pd.Series(fw_calc_100)\n",
    "df['Fw at 500cp']=pd.Series(fw_calc_500)\n",
    "df['Fw at 5000cp']=pd.Series(fw_calc_5000)"
   ]
  },
  {
   "cell_type": "code",
   "execution_count": 7,
   "metadata": {},
   "outputs": [
    {
     "name": "stdout",
     "output_type": "stream",
     "text": [
      "    Recovery  Oil Saturation  Water Saturation  Normalized Water Saturation  \\\n",
      "0       0.01           0.792             0.208                     0.014545   \n",
      "1       0.02           0.784             0.216                     0.029091   \n",
      "2       0.03           0.776             0.224                     0.043636   \n",
      "3       0.04           0.768             0.232                     0.058182   \n",
      "4       0.05           0.760             0.240                     0.072727   \n",
      "5       0.06           0.752             0.248                     0.087273   \n",
      "6       0.07           0.744             0.256                     0.101818   \n",
      "7       0.08           0.736             0.264                     0.116364   \n",
      "8       0.09           0.728             0.272                     0.130909   \n",
      "9       0.10           0.720             0.280                     0.145455   \n",
      "10      0.11           0.712             0.288                     0.160000   \n",
      "11      0.12           0.704             0.296                     0.174545   \n",
      "12      0.13           0.696             0.304                     0.189091   \n",
      "13      0.14           0.688             0.312                     0.203636   \n",
      "14      0.15           0.680             0.320                     0.218182   \n",
      "15      0.16           0.672             0.328                     0.232727   \n",
      "16      0.17           0.664             0.336                     0.247273   \n",
      "17      0.18           0.656             0.344                     0.261818   \n",
      "18      0.19           0.648             0.352                     0.276364   \n",
      "19      0.20           0.640             0.360                     0.290909   \n",
      "20      0.21           0.632             0.368                     0.305455   \n",
      "21      0.22           0.624             0.376                     0.320000   \n",
      "22      0.23           0.616             0.384                     0.334545   \n",
      "23      0.24           0.608             0.392                     0.349091   \n",
      "24      0.25           0.600             0.400                     0.363636   \n",
      "25      0.26           0.592             0.408                     0.378182   \n",
      "26      0.27           0.584             0.416                     0.392727   \n",
      "27      0.28           0.576             0.424                     0.407273   \n",
      "28      0.29           0.568             0.432                     0.421818   \n",
      "29      0.30           0.560             0.440                     0.436364   \n",
      "30      0.31           0.552             0.448                     0.450909   \n",
      "31      0.32           0.544             0.456                     0.465455   \n",
      "32      0.33           0.536             0.464                     0.480000   \n",
      "33      0.34           0.528             0.472                     0.494545   \n",
      "34      0.35           0.520             0.480                     0.509091   \n",
      "35      0.36           0.512             0.488                     0.523636   \n",
      "36      0.37           0.504             0.496                     0.538182   \n",
      "37      0.38           0.496             0.504                     0.552727   \n",
      "38      0.39           0.488             0.512                     0.567273   \n",
      "39      0.40           0.480             0.520                     0.581818   \n",
      "40      0.41           0.472             0.528                     0.596364   \n",
      "41      0.42           0.464             0.536                     0.610909   \n",
      "42      0.43           0.456             0.544                     0.625455   \n",
      "43      0.44           0.448             0.552                     0.640000   \n",
      "44      0.45           0.440             0.560                     0.654545   \n",
      "45      0.46           0.432             0.568                     0.669091   \n",
      "46      0.47           0.424             0.576                     0.683636   \n",
      "47      0.48           0.416             0.584                     0.698182   \n",
      "48      0.49           0.408             0.592                     0.712727   \n",
      "49      0.50           0.400             0.600                     0.727273   \n",
      "\n",
      "    Relative Water Permeability  Relative Oil Permeability  Fw at 10cp  \\\n",
      "0                      0.000003                   0.956995    0.000032   \n",
      "1                      0.000025                   0.915241    0.000269   \n",
      "2                      0.000083                   0.874720    0.000949   \n",
      "3                      0.000197                   0.835413    0.002352   \n",
      "4                      0.000385                   0.797301    0.004802   \n",
      "5                      0.000665                   0.760367    0.008666   \n",
      "6                      0.001056                   0.724591    0.014358   \n",
      "7                      0.001576                   0.689955    0.022327   \n",
      "8                      0.002243                   0.656441    0.033046   \n",
      "9                      0.003077                   0.624030    0.046997   \n",
      "10                     0.004096                   0.592704    0.064640   \n",
      "11                     0.005318                   0.562444    0.086380   \n",
      "12                     0.006761                   0.533232    0.112526   \n",
      "13                     0.008444                   0.505050    0.143248   \n",
      "14                     0.010386                   0.477878    0.178536   \n",
      "15                     0.012605                   0.451699    0.218174   \n",
      "16                     0.015119                   0.426494    0.261720   \n",
      "17                     0.017947                   0.402244    0.308523   \n",
      "18                     0.021108                   0.378932    0.357753   \n",
      "19                     0.024619                   0.356538    0.408460   \n",
      "20                     0.028500                   0.335044    0.459642   \n",
      "21                     0.032768                   0.314432    0.510316   \n",
      "22                     0.037443                   0.294683    0.559589   \n",
      "23                     0.042542                   0.275779    0.606703   \n",
      "24                     0.048084                   0.257701    0.651068   \n",
      "25                     0.054088                   0.240431    0.692273   \n",
      "26                     0.060572                   0.223950    0.730074   \n",
      "27                     0.067555                   0.208240    0.764378   \n",
      "28                     0.075054                   0.193283    0.795214   \n",
      "29                     0.083089                   0.179059    0.822705   \n",
      "30                     0.091678                   0.165551    0.847042   \n",
      "31                     0.100840                   0.152740    0.868456   \n",
      "32                     0.110592                   0.140608    0.887200   \n",
      "33                     0.120954                   0.129136    0.903534   \n",
      "34                     0.131943                   0.118305    0.917714   \n",
      "35                     0.143578                   0.108098    0.929983   \n",
      "36                     0.155879                   0.098495    0.940569   \n",
      "37                     0.168862                   0.089478    0.949678   \n",
      "38                     0.182547                   0.081029    0.957498   \n",
      "39                     0.196953                   0.073130    0.964199   \n",
      "40                     0.212096                   0.065761    0.969927   \n",
      "41                     0.227997                   0.058905    0.974815   \n",
      "42                     0.244674                   0.052543    0.978977   \n",
      "43                     0.262144                   0.046656    0.982513   \n",
      "44                     0.280427                   0.041226    0.985512   \n",
      "45                     0.299540                   0.036235    0.988048   \n",
      "46                     0.319503                   0.031664    0.990187   \n",
      "47                     0.340334                   0.027494    0.991986   \n",
      "48                     0.362051                   0.023707    0.993495   \n",
      "49                     0.384673                   0.020285    0.994754   \n",
      "\n",
      "    Fw at 50cp  Fw at 100cp  Fw at 500cp  Fw at 5000cp  \n",
      "0     0.000161     0.000321     0.001605      0.015824  \n",
      "1     0.001343     0.002683     0.013271      0.118551  \n",
      "2     0.004727     0.009410     0.045341      0.322010  \n",
      "3     0.011650     0.023032     0.105448      0.541026  \n",
      "4     0.023555     0.046026     0.194350      0.706946  \n",
      "5     0.041880     0.080392     0.304155      0.813816  \n",
      "6     0.067892     0.127152     0.421421      0.879281  \n",
      "7     0.102481     0.185910     0.533109      0.919474  \n",
      "8     0.145939     0.254707     0.630829      0.944714  \n",
      "9     0.197801     0.330274     0.711461      0.961025  \n",
      "10    0.256801     0.408658     0.775551      0.971873  \n",
      "11    0.320990     0.485984     0.825399      0.979285  \n",
      "12    0.387992     0.559069     0.863754      0.984471  \n",
      "13    0.455335     0.625746     0.893161      0.988180  \n",
      "14    0.520774     0.684880     0.915732      0.990882  \n",
      "15    0.582513     0.736187     0.933123      0.992884  \n",
      "16    0.639314     0.779978     0.946595      0.994390  \n",
      "17    0.690488     0.816910     0.957098      0.995537  \n",
      "18    0.735811     0.847801     0.965340      0.996422  \n",
      "19    0.775408     0.873498     0.971851      0.997112  \n",
      "20    0.809637     0.894806     0.977028      0.997654  \n",
      "21    0.838987     0.912445     0.981170      0.998085  \n",
      "22    0.864001     0.927039     0.984503      0.998428  \n",
      "23    0.885229     0.939121     0.987201      0.998705  \n",
      "24    0.903189     0.949132     0.989395      0.998929  \n",
      "25    0.918355     0.957440     0.991188      0.999112  \n",
      "26    0.931146     0.964346     0.992660      0.999261  \n",
      "27    0.941929     0.970096     0.993873      0.999384  \n",
      "28    0.951018     0.974894     0.994876      0.999485  \n",
      "29    0.958680     0.978904     0.995708      0.999569  \n",
      "30    0.965143     0.982262     0.996401      0.999639  \n",
      "31    0.970597     0.985079     0.996980      0.999697  \n",
      "32    0.975202     0.987445     0.997464      0.999746  \n",
      "33    0.979093     0.989436     0.997869      0.999787  \n",
      "34    0.982383     0.991113     0.998210      0.999821  \n",
      "35    0.985166     0.992527     0.998497      0.999849  \n",
      "36    0.987520     0.993721     0.998738      0.999874  \n",
      "37    0.989513     0.994729     0.998941      0.999894  \n",
      "38    0.991200     0.995581     0.999113      0.999911  \n",
      "39    0.992629     0.996301     0.999258      0.999926  \n",
      "40    0.993837     0.996909     0.999380      0.999938  \n",
      "41    0.994859     0.997423     0.999484      0.999948  \n",
      "42    0.995723     0.997857     0.999571      0.999957  \n",
      "43    0.996453     0.998223     0.999644      0.999964  \n",
      "44    0.997068     0.998532     0.999706      0.999971  \n",
      "45    0.997586     0.998792     0.999758      0.999976  \n",
      "46    0.998022     0.999010     0.999802      0.999980  \n",
      "47    0.998387     0.999193     0.999838      0.999984  \n",
      "48    0.998692     0.999346     0.999869      0.999987  \n",
      "49    0.998946     0.999473     0.999895      0.999989  \n"
     ]
    }
   ],
   "source": [
    "fw_names=['Fw at 10cp', 'Fw at 50cp', 'Fw at 100cp','Fw at 500cp', 'Fw at 5000cp']\n",
    "print(df)"
   ]
  },
  {
   "cell_type": "code",
   "execution_count": 8,
   "metadata": {},
   "outputs": [
    {
     "name": "stdout",
     "output_type": "stream",
     "text": [
      "<matplotlib.collections.PathCollection object at 0x000001D09ED70808>\n",
      "<matplotlib.collections.PathCollection object at 0x000001D09ED70388>\n",
      "<matplotlib.collections.PathCollection object at 0x000001D09ED8CB08>\n",
      "<matplotlib.collections.PathCollection object at 0x000001D09ED9E048>\n",
      "<matplotlib.collections.PathCollection object at 0x000001D09ED9E7C8>\n"
     ]
    },
    {
     "data": {
      "image/png": "[encoded data removed]",
      "text/plain": [
       "<Figure size 432x288 with 1 Axes>"
      ]
     },
     "metadata": {
      "needs_background": "light"
     },
     "output_type": "display_data"
    }
   ],
   "source": [
    "for item in fw_names :\n",
    "    water=plt.scatter('Water Saturation' , item, data=df )\n",
    "    plt.xlabel('Water Saturation')\n",
    "    plt.ylabel('Fw')\n",
    "    plt.legend()\n",
    "    print(water)"
   ]
  },
  {
   "cell_type": "code",
   "execution_count": 9,
   "metadata": {},
   "outputs": [
    {
     "name": "stdout",
     "output_type": "stream",
     "text": [
      "<matplotlib.collections.PathCollection object at 0x000001D09EE57948>\n",
      "<matplotlib.collections.PathCollection object at 0x000001D09EE57848>\n",
      "<matplotlib.collections.PathCollection object at 0x000001D09EE57908>\n",
      "<matplotlib.collections.PathCollection object at 0x000001D09EE5E408>\n",
      "<matplotlib.collections.PathCollection object at 0x000001D09EE73088>\n"
     ]
    },
    {
     "data": {
      "image/png": "[encoded data removed]",
      "text/plain": [
       "<Figure size 432x288 with 1 Axes>"
      ]
     },
     "metadata": {
      "needs_background": "light"
     },
     "output_type": "display_data"
    }
   ],
   "source": [
    "for item in fw_names:  \n",
    "    rec_plot = plt.scatter( 'Recovery' , item,  data=df )\n",
    "    plt.xlabel('Recovery')\n",
    "    plt.ylabel('Fw')\n",
    "    plt.legend()\n",
    "    print(rec_plot)"
   ]
  }
 ],
 "metadata": {
  "kernelspec": {
   "display_name": "Python 3",
   "language": "python",
   "name": "python3"
  },
  "language_info": {
   "codemirror_mode": {
    "name": "ipython",
    "version": 3
   },
   "file_extension": ".py",
   "mimetype": "text/x-python",
   "name": "python",
   "nbconvert_exporter": "python",
   "pygments_lexer": "ipython3",
   "version": "3.7.4"
  }
 },
 "nbformat": 4,
 "nbformat_minor": 2
}
